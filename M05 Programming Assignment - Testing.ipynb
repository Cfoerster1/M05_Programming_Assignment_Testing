{
 "cells": [
  {
   "cell_type": "code",
   "execution_count": 5,
   "id": "abea00ac",
   "metadata": {},
   "outputs": [],
   "source": [
    "import unittest\n",
    "\n",
    "def calculate(x, y):\n",
    "    return x + y"
   ]
  },
  {
   "cell_type": "code",
   "execution_count": 6,
   "id": "9028593d",
   "metadata": {},
   "outputs": [],
   "source": [
    "class TestCalculate(unittest.TestCase):\n",
    "    pass\n",
    "def test_addition(self):\n",
    "    self.assertEqual(calculate(2, 3), 5)"
   ]
  },
  {
   "cell_type": "code",
   "execution_count": 7,
   "id": "eff37cd6",
   "metadata": {},
   "outputs": [
    {
     "name": "stderr",
     "output_type": "stream",
     "text": [
      "\n",
      "----------------------------------------------------------------------\n",
      "Ran 0 tests in 0.000s\n",
      "\n",
      "OK\n"
     ]
    }
   ],
   "source": [
    "if __name__ == '__main__':\n",
    "    unittest.main(argv=['first-arg-is-ignored'], exit=False)"
   ]
  },
  {
   "cell_type": "code",
   "execution_count": null,
   "id": "f1b1bdaf",
   "metadata": {},
   "outputs": [],
   "source": [
    "#Unit test run to make sure the output of the code is the same as what th unit test gets.\n",
    "#Unit tests are a great way to test certain code to ensure the repeatability and functionality of the code."
   ]
  }
 ],
 "metadata": {
  "kernelspec": {
   "display_name": "Python 3 (ipykernel)",
   "language": "python",
   "name": "python3"
  },
  "language_info": {
   "codemirror_mode": {
    "name": "ipython",
    "version": 3
   },
   "file_extension": ".py",
   "mimetype": "text/x-python",
   "name": "python",
   "nbconvert_exporter": "python",
   "pygments_lexer": "ipython3",
   "version": "3.9.13"
  }
 },
 "nbformat": 4,
 "nbformat_minor": 5
}
